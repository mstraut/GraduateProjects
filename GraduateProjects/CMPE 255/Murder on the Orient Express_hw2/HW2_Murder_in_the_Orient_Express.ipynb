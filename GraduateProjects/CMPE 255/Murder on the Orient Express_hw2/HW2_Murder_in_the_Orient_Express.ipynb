{
  "cells": [
    {
      "cell_type": "markdown",
      "source": [
        "Miryam Strautkalns\n",
        "\n",
        "`CMPE-255. Spring 2024`"
      ],
      "metadata": {
        "id": "Y48T_9SL_wk9"
      }
    },
    {
      "cell_type": "markdown",
      "metadata": {
        "id": "_EI4Wxp64R_g"
      },
      "source": [
        "# Murder in the Orient Express\n",
        "\n",
        "Hercules Poirot had it easy when he solved the murder in the Orient Express in 1934. He had to deal with only 12 suspects. Piece of cake.\n",
        "\n",
        "In this exercise we'll use a more realistic situation (somehow...). A full train, with thousands of passengers, where most of them are potential suspects. Association Rules can help us narrow-down the number of suspects, so our sleuth can focus in a small group with high probability of being the murderer. We want to examine all passengers using Association Rules, and generate high probability rules that can help identify the culprit. Rules like the following, if they have high support and confidence, point to passengers that are more likely to have committed the crime:\n",
        "\n",
        "```\n",
        "{ Adult, Has access to first class, wears black shoes, owns a handkerchief } -> { seen walking around after midnight }\n",
        "{ Male, Knows the victim, Owns a handkerchief } -> { Has access to 1st class }\n",
        "```\n",
        "\n",
        "For this homework, assume the current year is 2024.\n",
        "\n",
        "\n",
        "## Goals of the exercise\n",
        "\n",
        "1. Get familiar with Numpy and Pandas DataFrame\n",
        "2. Get familiar with scikit-learn and other available AI and Data Mining packages\n",
        "3. Practical hands-on experience in reviewing, cleaning, and preprocessing data\n",
        "4. Practical hands-on experience on Association Rules\n",
        "\n",
        "\n",
        "For this homework, assume current date is \"2024\".\n"
      ]
    },
    {
      "cell_type": "markdown",
      "source": [
        "# Setup\n",
        "\n",
        "The following code includes common libraries, as well as functions for retrieving the data for this homework."
      ],
      "metadata": {
        "id": "dNCAD2WJCUpu"
      }
    },
    {
      "cell_type": "code",
      "execution_count": 1,
      "metadata": {
        "ExecuteTime": {
          "end_time": "2023-03-24T23:11:51.052450Z",
          "start_time": "2023-03-24T23:11:50.569185Z"
        },
        "id": "BwWMYBmd4R_j",
        "tags": [],
        "colab": {
          "base_uri": "https://localhost:8080/"
        },
        "outputId": "f2638c15-9b57-4a1f-ef42-aeda68464232"
      },
      "outputs": [
        {
          "output_type": "stream",
          "name": "stdout",
          "text": [
            "Collecting apyori\n",
            "  Downloading apyori-1.1.2.tar.gz (8.6 kB)\n",
            "  Preparing metadata (setup.py) ... \u001b[?25l\u001b[?25hdone\n",
            "Building wheels for collected packages: apyori\n",
            "  Building wheel for apyori (setup.py) ... \u001b[?25l\u001b[?25hdone\n",
            "  Created wheel for apyori: filename=apyori-1.1.2-py3-none-any.whl size=5953 sha256=7984d0b5eb79ab3d5da2c2e54c1d14e98eaecd06c18b9eb10fe1727289c33d94\n",
            "  Stored in directory: /root/.cache/pip/wheels/c4/1a/79/20f55c470a50bb3702a8cb7c94d8ada15573538c7f4baebe2d\n",
            "Successfully built apyori\n",
            "Installing collected packages: apyori\n",
            "Successfully installed apyori-1.1.2\n"
          ]
        }
      ],
      "source": [
        "# Common Libraries - ADD as needed below\n",
        "import matplotlib.pyplot as plt\n",
        "import numpy as np\n",
        "import pandas as pd\n",
        "import pickle\n",
        "\n",
        "# install and import\n",
        "!pip install apyori\n",
        "from apyori import apriori\n",
        "from mlxtend.frequent_patterns import fpgrowth\n",
        "from mlxtend.preprocessing import TransactionEncoder\n",
        "#\n",
        "\n",
        "def debug_print(*args):\n",
        "  #print(\"** DBG - \", *args)\n",
        "  return"
      ]
    },
    {
      "cell_type": "code",
      "source": [
        "# Upload Dataset to colab\n",
        "from google.colab import files\n",
        "\n",
        "uploaded = files.upload()\n",
        "\n",
        "for fn in uploaded.keys():\n",
        "  print('User uploaded file \"{name}\" with length {length} bytes'.format(\n",
        "      name=fn, length=len(uploaded[fn])))"
      ],
      "metadata": {
        "id": "5lsgkdkV8Edn",
        "colab": {
          "base_uri": "https://localhost:8080/",
          "height": 155
        },
        "outputId": "13153e2f-ec3d-4254-a626-cc64f0986736"
      },
      "execution_count": null,
      "outputs": [
        {
          "output_type": "stream",
          "name": "stderr",
          "text": [
            "/usr/local/lib/python3.10/dist-packages/ipykernel/ipkernel.py:283: DeprecationWarning: `should_run_async` will not call `transform_cell` automatically in the future. Please pass the result to `transformed_cell` argument and any exception that happen during thetransform in `preprocessing_exc_tuple` in IPython 7.17 and above.\n",
            "  and should_run_async(code)\n"
          ]
        },
        {
          "output_type": "display_data",
          "data": {
            "text/plain": [
              "<IPython.core.display.HTML object>"
            ],
            "text/html": [
              "\n",
              "     <input type=\"file\" id=\"files-8119b27e-65cd-4ef8-a1b1-81608d984142\" name=\"files[]\" multiple disabled\n",
              "        style=\"border:none\" />\n",
              "     <output id=\"result-8119b27e-65cd-4ef8-a1b1-81608d984142\">\n",
              "      Upload widget is only available when the cell has been executed in the\n",
              "      current browser session. Please rerun this cell to enable.\n",
              "      </output>\n",
              "      <script>// Copyright 2017 Google LLC\n",
              "//\n",
              "// Licensed under the Apache License, Version 2.0 (the \"License\");\n",
              "// you may not use this file except in compliance with the License.\n",
              "// You may obtain a copy of the License at\n",
              "//\n",
              "//      http://www.apache.org/licenses/LICENSE-2.0\n",
              "//\n",
              "// Unless required by applicable law or agreed to in writing, software\n",
              "// distributed under the License is distributed on an \"AS IS\" BASIS,\n",
              "// WITHOUT WARRANTIES OR CONDITIONS OF ANY KIND, either express or implied.\n",
              "// See the License for the specific language governing permissions and\n",
              "// limitations under the License.\n",
              "\n",
              "/**\n",
              " * @fileoverview Helpers for google.colab Python module.\n",
              " */\n",
              "(function(scope) {\n",
              "function span(text, styleAttributes = {}) {\n",
              "  const element = document.createElement('span');\n",
              "  element.textContent = text;\n",
              "  for (const key of Object.keys(styleAttributes)) {\n",
              "    element.style[key] = styleAttributes[key];\n",
              "  }\n",
              "  return element;\n",
              "}\n",
              "\n",
              "// Max number of bytes which will be uploaded at a time.\n",
              "const MAX_PAYLOAD_SIZE = 100 * 1024;\n",
              "\n",
              "function _uploadFiles(inputId, outputId) {\n",
              "  const steps = uploadFilesStep(inputId, outputId);\n",
              "  const outputElement = document.getElementById(outputId);\n",
              "  // Cache steps on the outputElement to make it available for the next call\n",
              "  // to uploadFilesContinue from Python.\n",
              "  outputElement.steps = steps;\n",
              "\n",
              "  return _uploadFilesContinue(outputId);\n",
              "}\n",
              "\n",
              "// This is roughly an async generator (not supported in the browser yet),\n",
              "// where there are multiple asynchronous steps and the Python side is going\n",
              "// to poll for completion of each step.\n",
              "// This uses a Promise to block the python side on completion of each step,\n",
              "// then passes the result of the previous step as the input to the next step.\n",
              "function _uploadFilesContinue(outputId) {\n",
              "  const outputElement = document.getElementById(outputId);\n",
              "  const steps = outputElement.steps;\n",
              "\n",
              "  const next = steps.next(outputElement.lastPromiseValue);\n",
              "  return Promise.resolve(next.value.promise).then((value) => {\n",
              "    // Cache the last promise value to make it available to the next\n",
              "    // step of the generator.\n",
              "    outputElement.lastPromiseValue = value;\n",
              "    return next.value.response;\n",
              "  });\n",
              "}\n",
              "\n",
              "/**\n",
              " * Generator function which is called between each async step of the upload\n",
              " * process.\n",
              " * @param {string} inputId Element ID of the input file picker element.\n",
              " * @param {string} outputId Element ID of the output display.\n",
              " * @return {!Iterable<!Object>} Iterable of next steps.\n",
              " */\n",
              "function* uploadFilesStep(inputId, outputId) {\n",
              "  const inputElement = document.getElementById(inputId);\n",
              "  inputElement.disabled = false;\n",
              "\n",
              "  const outputElement = document.getElementById(outputId);\n",
              "  outputElement.innerHTML = '';\n",
              "\n",
              "  const pickedPromise = new Promise((resolve) => {\n",
              "    inputElement.addEventListener('change', (e) => {\n",
              "      resolve(e.target.files);\n",
              "    });\n",
              "  });\n",
              "\n",
              "  const cancel = document.createElement('button');\n",
              "  inputElement.parentElement.appendChild(cancel);\n",
              "  cancel.textContent = 'Cancel upload';\n",
              "  const cancelPromise = new Promise((resolve) => {\n",
              "    cancel.onclick = () => {\n",
              "      resolve(null);\n",
              "    };\n",
              "  });\n",
              "\n",
              "  // Wait for the user to pick the files.\n",
              "  const files = yield {\n",
              "    promise: Promise.race([pickedPromise, cancelPromise]),\n",
              "    response: {\n",
              "      action: 'starting',\n",
              "    }\n",
              "  };\n",
              "\n",
              "  cancel.remove();\n",
              "\n",
              "  // Disable the input element since further picks are not allowed.\n",
              "  inputElement.disabled = true;\n",
              "\n",
              "  if (!files) {\n",
              "    return {\n",
              "      response: {\n",
              "        action: 'complete',\n",
              "      }\n",
              "    };\n",
              "  }\n",
              "\n",
              "  for (const file of files) {\n",
              "    const li = document.createElement('li');\n",
              "    li.append(span(file.name, {fontWeight: 'bold'}));\n",
              "    li.append(span(\n",
              "        `(${file.type || 'n/a'}) - ${file.size} bytes, ` +\n",
              "        `last modified: ${\n",
              "            file.lastModifiedDate ? file.lastModifiedDate.toLocaleDateString() :\n",
              "                                    'n/a'} - `));\n",
              "    const percent = span('0% done');\n",
              "    li.appendChild(percent);\n",
              "\n",
              "    outputElement.appendChild(li);\n",
              "\n",
              "    const fileDataPromise = new Promise((resolve) => {\n",
              "      const reader = new FileReader();\n",
              "      reader.onload = (e) => {\n",
              "        resolve(e.target.result);\n",
              "      };\n",
              "      reader.readAsArrayBuffer(file);\n",
              "    });\n",
              "    // Wait for the data to be ready.\n",
              "    let fileData = yield {\n",
              "      promise: fileDataPromise,\n",
              "      response: {\n",
              "        action: 'continue',\n",
              "      }\n",
              "    };\n",
              "\n",
              "    // Use a chunked sending to avoid message size limits. See b/62115660.\n",
              "    let position = 0;\n",
              "    do {\n",
              "      const length = Math.min(fileData.byteLength - position, MAX_PAYLOAD_SIZE);\n",
              "      const chunk = new Uint8Array(fileData, position, length);\n",
              "      position += length;\n",
              "\n",
              "      const base64 = btoa(String.fromCharCode.apply(null, chunk));\n",
              "      yield {\n",
              "        response: {\n",
              "          action: 'append',\n",
              "          file: file.name,\n",
              "          data: base64,\n",
              "        },\n",
              "      };\n",
              "\n",
              "      let percentDone = fileData.byteLength === 0 ?\n",
              "          100 :\n",
              "          Math.round((position / fileData.byteLength) * 100);\n",
              "      percent.textContent = `${percentDone}% done`;\n",
              "\n",
              "    } while (position < fileData.byteLength);\n",
              "  }\n",
              "\n",
              "  // All done.\n",
              "  yield {\n",
              "    response: {\n",
              "      action: 'complete',\n",
              "    }\n",
              "  };\n",
              "}\n",
              "\n",
              "scope.google = scope.google || {};\n",
              "scope.google.colab = scope.google.colab || {};\n",
              "scope.google.colab._files = {\n",
              "  _uploadFiles,\n",
              "  _uploadFilesContinue,\n",
              "};\n",
              "})(self);\n",
              "</script> "
            ]
          },
          "metadata": {}
        },
        {
          "output_type": "stream",
          "name": "stdout",
          "text": [
            "Saving HW2 - Passengers.pickle to HW2 - Passengers (3).pickle\n",
            "User uploaded file \"HW2 - Passengers (3).pickle\" with length 8977874 bytes\n"
          ]
        }
      ]
    },
    {
      "cell_type": "code",
      "execution_count": null,
      "metadata": {
        "ExecuteTime": {
          "end_time": "2023-03-24T23:01:53.310608Z",
          "start_time": "2023-03-24T23:01:53.303604Z"
        },
        "id": "MGpZLC974R_l",
        "tags": [],
        "colab": {
          "base_uri": "https://localhost:8080/"
        },
        "outputId": "59db4404-e738-4271-ffd3-75c6b4a697a5"
      },
      "outputs": [
        {
          "output_type": "stream",
          "name": "stderr",
          "text": [
            "/usr/local/lib/python3.10/dist-packages/ipykernel/ipkernel.py:283: DeprecationWarning: `should_run_async` will not call `transform_cell` automatically in the future. Please pass the result to `transformed_cell` argument and any exception that happen during thetransform in `preprocessing_exc_tuple` in IPython 7.17 and above.\n",
            "  and should_run_async(code)\n"
          ]
        }
      ],
      "source": [
        "# Useful functions\n",
        "\n",
        "# Data Loading\n",
        "def load_data(filename='HW2 - Passengers.pickle'):\n",
        "  '''Load the data for the exercise into a Pandas DataFrame'''\n",
        "\n",
        "  with open(filename, 'rb') as handle:\n",
        "    return pd.DataFrame.from_dict(pickle.load(handle))\n",
        "\n",
        "  print(\"ERROR: Unable to open file '%s'!\" % filename)\n",
        "  return None"
      ]
    },
    {
      "cell_type": "code",
      "source": [
        "# LOAD DATASET as a Panda Dataframe\n",
        "passengers_df = load_data()"
      ],
      "metadata": {
        "id": "ecdZ6zX9DYls",
        "colab": {
          "base_uri": "https://localhost:8080/"
        },
        "outputId": "049d66aa-0d57-44a5-eb7c-e724138b4b62"
      },
      "execution_count": null,
      "outputs": [
        {
          "output_type": "stream",
          "name": "stderr",
          "text": [
            "/usr/local/lib/python3.10/dist-packages/ipykernel/ipkernel.py:283: DeprecationWarning: `should_run_async` will not call `transform_cell` automatically in the future. Please pass the result to `transformed_cell` argument and any exception that happen during thetransform in `preprocessing_exc_tuple` in IPython 7.17 and above.\n",
            "  and should_run_async(code)\n"
          ]
        }
      ]
    },
    {
      "cell_type": "code",
      "source": [
        "# Test\n",
        "passengers_df"
      ],
      "metadata": {
        "colab": {
          "base_uri": "https://localhost:8080/",
          "height": 516
        },
        "id": "ZPLIL2mkzXQl",
        "outputId": "172d415d-b4f6-4963-fd02-3d0abfbfb9a9"
      },
      "execution_count": null,
      "outputs": [
        {
          "output_type": "stream",
          "name": "stderr",
          "text": [
            "/usr/local/lib/python3.10/dist-packages/ipykernel/ipkernel.py:283: DeprecationWarning: `should_run_async` will not call `transform_cell` automatically in the future. Please pass the result to `transformed_cell` argument and any exception that happen during thetransform in `preprocessing_exc_tuple` in IPython 7.17 and above.\n",
            "  and should_run_async(code)\n"
          ]
        },
        {
          "output_type": "execute_result",
          "data": {
            "text/plain": [
              "            Id     Sex  Year of birth Class Has an alibi Knows the victim  \\\n",
              "0            0  female           1965   3rd           no              yes   \n",
              "1            1    male           1943   3rd          yes              yes   \n",
              "2            2  female           1974   2nd           no              yes   \n",
              "3            3    male           2007   2nd          yes              yes   \n",
              "4            4    male           1930   1st          yes              yes   \n",
              "...        ...     ...            ...   ...          ...              ...   \n",
              "349995  349995    male           2006   3rd          yes              yes   \n",
              "349996  349996    male           1984   3rd          yes              yes   \n",
              "349997  349997    male           1927   2nd          yes              yes   \n",
              "349998  349998  female           1933   3rd          yes              yes   \n",
              "349999  349999  female           1960   2nd           no               no   \n",
              "\n",
              "       Owns a knife Has access to 1st class Owns a handkerchief  \\\n",
              "0               yes                     yes                 yes   \n",
              "1               yes                     yes                 yes   \n",
              "2               yes                     yes                 yes   \n",
              "3                no                     yes                 yes   \n",
              "4                no                     yes                 yes   \n",
              "...             ...                     ...                 ...   \n",
              "349995          yes                     yes                 yes   \n",
              "349996          yes                     yes                  no   \n",
              "349997           no                     yes                 yes   \n",
              "349998           no                     yes                 yes   \n",
              "349999           no                     yes                  no   \n",
              "\n",
              "       Wears black shoes Seen after midnight  \n",
              "0                    yes                  no  \n",
              "1                    yes                 yes  \n",
              "2                     no                  no  \n",
              "3                    yes                  no  \n",
              "4                    yes                 yes  \n",
              "...                  ...                 ...  \n",
              "349995               yes                 yes  \n",
              "349996               yes                 yes  \n",
              "349997               yes                 yes  \n",
              "349998                no                 yes  \n",
              "349999                no                 yes  \n",
              "\n",
              "[350000 rows x 11 columns]"
            ],
            "text/html": [
              "\n",
              "  <div id=\"df-fc89a7d7-b670-4953-bb03-871742480ec8\" class=\"colab-df-container\">\n",
              "    <div>\n",
              "<style scoped>\n",
              "    .dataframe tbody tr th:only-of-type {\n",
              "        vertical-align: middle;\n",
              "    }\n",
              "\n",
              "    .dataframe tbody tr th {\n",
              "        vertical-align: top;\n",
              "    }\n",
              "\n",
              "    .dataframe thead th {\n",
              "        text-align: right;\n",
              "    }\n",
              "</style>\n",
              "<table border=\"1\" class=\"dataframe\">\n",
              "  <thead>\n",
              "    <tr style=\"text-align: right;\">\n",
              "      <th></th>\n",
              "      <th>Id</th>\n",
              "      <th>Sex</th>\n",
              "      <th>Year of birth</th>\n",
              "      <th>Class</th>\n",
              "      <th>Has an alibi</th>\n",
              "      <th>Knows the victim</th>\n",
              "      <th>Owns a knife</th>\n",
              "      <th>Has access to 1st class</th>\n",
              "      <th>Owns a handkerchief</th>\n",
              "      <th>Wears black shoes</th>\n",
              "      <th>Seen after midnight</th>\n",
              "    </tr>\n",
              "  </thead>\n",
              "  <tbody>\n",
              "    <tr>\n",
              "      <th>0</th>\n",
              "      <td>0</td>\n",
              "      <td>female</td>\n",
              "      <td>1965</td>\n",
              "      <td>3rd</td>\n",
              "      <td>no</td>\n",
              "      <td>yes</td>\n",
              "      <td>yes</td>\n",
              "      <td>yes</td>\n",
              "      <td>yes</td>\n",
              "      <td>yes</td>\n",
              "      <td>no</td>\n",
              "    </tr>\n",
              "    <tr>\n",
              "      <th>1</th>\n",
              "      <td>1</td>\n",
              "      <td>male</td>\n",
              "      <td>1943</td>\n",
              "      <td>3rd</td>\n",
              "      <td>yes</td>\n",
              "      <td>yes</td>\n",
              "      <td>yes</td>\n",
              "      <td>yes</td>\n",
              "      <td>yes</td>\n",
              "      <td>yes</td>\n",
              "      <td>yes</td>\n",
              "    </tr>\n",
              "    <tr>\n",
              "      <th>2</th>\n",
              "      <td>2</td>\n",
              "      <td>female</td>\n",
              "      <td>1974</td>\n",
              "      <td>2nd</td>\n",
              "      <td>no</td>\n",
              "      <td>yes</td>\n",
              "      <td>yes</td>\n",
              "      <td>yes</td>\n",
              "      <td>yes</td>\n",
              "      <td>no</td>\n",
              "      <td>no</td>\n",
              "    </tr>\n",
              "    <tr>\n",
              "      <th>3</th>\n",
              "      <td>3</td>\n",
              "      <td>male</td>\n",
              "      <td>2007</td>\n",
              "      <td>2nd</td>\n",
              "      <td>yes</td>\n",
              "      <td>yes</td>\n",
              "      <td>no</td>\n",
              "      <td>yes</td>\n",
              "      <td>yes</td>\n",
              "      <td>yes</td>\n",
              "      <td>no</td>\n",
              "    </tr>\n",
              "    <tr>\n",
              "      <th>4</th>\n",
              "      <td>4</td>\n",
              "      <td>male</td>\n",
              "      <td>1930</td>\n",
              "      <td>1st</td>\n",
              "      <td>yes</td>\n",
              "      <td>yes</td>\n",
              "      <td>no</td>\n",
              "      <td>yes</td>\n",
              "      <td>yes</td>\n",
              "      <td>yes</td>\n",
              "      <td>yes</td>\n",
              "    </tr>\n",
              "    <tr>\n",
              "      <th>...</th>\n",
              "      <td>...</td>\n",
              "      <td>...</td>\n",
              "      <td>...</td>\n",
              "      <td>...</td>\n",
              "      <td>...</td>\n",
              "      <td>...</td>\n",
              "      <td>...</td>\n",
              "      <td>...</td>\n",
              "      <td>...</td>\n",
              "      <td>...</td>\n",
              "      <td>...</td>\n",
              "    </tr>\n",
              "    <tr>\n",
              "      <th>349995</th>\n",
              "      <td>349995</td>\n",
              "      <td>male</td>\n",
              "      <td>2006</td>\n",
              "      <td>3rd</td>\n",
              "      <td>yes</td>\n",
              "      <td>yes</td>\n",
              "      <td>yes</td>\n",
              "      <td>yes</td>\n",
              "      <td>yes</td>\n",
              "      <td>yes</td>\n",
              "      <td>yes</td>\n",
              "    </tr>\n",
              "    <tr>\n",
              "      <th>349996</th>\n",
              "      <td>349996</td>\n",
              "      <td>male</td>\n",
              "      <td>1984</td>\n",
              "      <td>3rd</td>\n",
              "      <td>yes</td>\n",
              "      <td>yes</td>\n",
              "      <td>yes</td>\n",
              "      <td>yes</td>\n",
              "      <td>no</td>\n",
              "      <td>yes</td>\n",
              "      <td>yes</td>\n",
              "    </tr>\n",
              "    <tr>\n",
              "      <th>349997</th>\n",
              "      <td>349997</td>\n",
              "      <td>male</td>\n",
              "      <td>1927</td>\n",
              "      <td>2nd</td>\n",
              "      <td>yes</td>\n",
              "      <td>yes</td>\n",
              "      <td>no</td>\n",
              "      <td>yes</td>\n",
              "      <td>yes</td>\n",
              "      <td>yes</td>\n",
              "      <td>yes</td>\n",
              "    </tr>\n",
              "    <tr>\n",
              "      <th>349998</th>\n",
              "      <td>349998</td>\n",
              "      <td>female</td>\n",
              "      <td>1933</td>\n",
              "      <td>3rd</td>\n",
              "      <td>yes</td>\n",
              "      <td>yes</td>\n",
              "      <td>no</td>\n",
              "      <td>yes</td>\n",
              "      <td>yes</td>\n",
              "      <td>no</td>\n",
              "      <td>yes</td>\n",
              "    </tr>\n",
              "    <tr>\n",
              "      <th>349999</th>\n",
              "      <td>349999</td>\n",
              "      <td>female</td>\n",
              "      <td>1960</td>\n",
              "      <td>2nd</td>\n",
              "      <td>no</td>\n",
              "      <td>no</td>\n",
              "      <td>no</td>\n",
              "      <td>yes</td>\n",
              "      <td>no</td>\n",
              "      <td>no</td>\n",
              "      <td>yes</td>\n",
              "    </tr>\n",
              "  </tbody>\n",
              "</table>\n",
              "<p>350000 rows × 11 columns</p>\n",
              "</div>\n",
              "    <div class=\"colab-df-buttons\">\n",
              "\n",
              "  <div class=\"colab-df-container\">\n",
              "    <button class=\"colab-df-convert\" onclick=\"convertToInteractive('df-fc89a7d7-b670-4953-bb03-871742480ec8')\"\n",
              "            title=\"Convert this dataframe to an interactive table.\"\n",
              "            style=\"display:none;\">\n",
              "\n",
              "  <svg xmlns=\"http://www.w3.org/2000/svg\" height=\"24px\" viewBox=\"0 -960 960 960\">\n",
              "    <path d=\"M120-120v-720h720v720H120Zm60-500h600v-160H180v160Zm220 220h160v-160H400v160Zm0 220h160v-160H400v160ZM180-400h160v-160H180v160Zm440 0h160v-160H620v160ZM180-180h160v-160H180v160Zm440 0h160v-160H620v160Z\"/>\n",
              "  </svg>\n",
              "    </button>\n",
              "\n",
              "  <style>\n",
              "    .colab-df-container {\n",
              "      display:flex;\n",
              "      gap: 12px;\n",
              "    }\n",
              "\n",
              "    .colab-df-convert {\n",
              "      background-color: #E8F0FE;\n",
              "      border: none;\n",
              "      border-radius: 50%;\n",
              "      cursor: pointer;\n",
              "      display: none;\n",
              "      fill: #1967D2;\n",
              "      height: 32px;\n",
              "      padding: 0 0 0 0;\n",
              "      width: 32px;\n",
              "    }\n",
              "\n",
              "    .colab-df-convert:hover {\n",
              "      background-color: #E2EBFA;\n",
              "      box-shadow: 0px 1px 2px rgba(60, 64, 67, 0.3), 0px 1px 3px 1px rgba(60, 64, 67, 0.15);\n",
              "      fill: #174EA6;\n",
              "    }\n",
              "\n",
              "    .colab-df-buttons div {\n",
              "      margin-bottom: 4px;\n",
              "    }\n",
              "\n",
              "    [theme=dark] .colab-df-convert {\n",
              "      background-color: #3B4455;\n",
              "      fill: #D2E3FC;\n",
              "    }\n",
              "\n",
              "    [theme=dark] .colab-df-convert:hover {\n",
              "      background-color: #434B5C;\n",
              "      box-shadow: 0px 1px 3px 1px rgba(0, 0, 0, 0.15);\n",
              "      filter: drop-shadow(0px 1px 2px rgba(0, 0, 0, 0.3));\n",
              "      fill: #FFFFFF;\n",
              "    }\n",
              "  </style>\n",
              "\n",
              "    <script>\n",
              "      const buttonEl =\n",
              "        document.querySelector('#df-fc89a7d7-b670-4953-bb03-871742480ec8 button.colab-df-convert');\n",
              "      buttonEl.style.display =\n",
              "        google.colab.kernel.accessAllowed ? 'block' : 'none';\n",
              "\n",
              "      async function convertToInteractive(key) {\n",
              "        const element = document.querySelector('#df-fc89a7d7-b670-4953-bb03-871742480ec8');\n",
              "        const dataTable =\n",
              "          await google.colab.kernel.invokeFunction('convertToInteractive',\n",
              "                                                    [key], {});\n",
              "        if (!dataTable) return;\n",
              "\n",
              "        const docLinkHtml = 'Like what you see? Visit the ' +\n",
              "          '<a target=\"_blank\" href=https://colab.research.google.com/notebooks/data_table.ipynb>data table notebook</a>'\n",
              "          + ' to learn more about interactive tables.';\n",
              "        element.innerHTML = '';\n",
              "        dataTable['output_type'] = 'display_data';\n",
              "        await google.colab.output.renderOutput(dataTable, element);\n",
              "        const docLink = document.createElement('div');\n",
              "        docLink.innerHTML = docLinkHtml;\n",
              "        element.appendChild(docLink);\n",
              "      }\n",
              "    </script>\n",
              "  </div>\n",
              "\n",
              "\n",
              "<div id=\"df-f7cb22b2-b1f6-4f27-a62f-1ae8b4280123\">\n",
              "  <button class=\"colab-df-quickchart\" onclick=\"quickchart('df-f7cb22b2-b1f6-4f27-a62f-1ae8b4280123')\"\n",
              "            title=\"Suggest charts\"\n",
              "            style=\"display:none;\">\n",
              "\n",
              "<svg xmlns=\"http://www.w3.org/2000/svg\" height=\"24px\"viewBox=\"0 0 24 24\"\n",
              "     width=\"24px\">\n",
              "    <g>\n",
              "        <path d=\"M19 3H5c-1.1 0-2 .9-2 2v14c0 1.1.9 2 2 2h14c1.1 0 2-.9 2-2V5c0-1.1-.9-2-2-2zM9 17H7v-7h2v7zm4 0h-2V7h2v10zm4 0h-2v-4h2v4z\"/>\n",
              "    </g>\n",
              "</svg>\n",
              "  </button>\n",
              "\n",
              "<style>\n",
              "  .colab-df-quickchart {\n",
              "      --bg-color: #E8F0FE;\n",
              "      --fill-color: #1967D2;\n",
              "      --hover-bg-color: #E2EBFA;\n",
              "      --hover-fill-color: #174EA6;\n",
              "      --disabled-fill-color: #AAA;\n",
              "      --disabled-bg-color: #DDD;\n",
              "  }\n",
              "\n",
              "  [theme=dark] .colab-df-quickchart {\n",
              "      --bg-color: #3B4455;\n",
              "      --fill-color: #D2E3FC;\n",
              "      --hover-bg-color: #434B5C;\n",
              "      --hover-fill-color: #FFFFFF;\n",
              "      --disabled-bg-color: #3B4455;\n",
              "      --disabled-fill-color: #666;\n",
              "  }\n",
              "\n",
              "  .colab-df-quickchart {\n",
              "    background-color: var(--bg-color);\n",
              "    border: none;\n",
              "    border-radius: 50%;\n",
              "    cursor: pointer;\n",
              "    display: none;\n",
              "    fill: var(--fill-color);\n",
              "    height: 32px;\n",
              "    padding: 0;\n",
              "    width: 32px;\n",
              "  }\n",
              "\n",
              "  .colab-df-quickchart:hover {\n",
              "    background-color: var(--hover-bg-color);\n",
              "    box-shadow: 0 1px 2px rgba(60, 64, 67, 0.3), 0 1px 3px 1px rgba(60, 64, 67, 0.15);\n",
              "    fill: var(--button-hover-fill-color);\n",
              "  }\n",
              "\n",
              "  .colab-df-quickchart-complete:disabled,\n",
              "  .colab-df-quickchart-complete:disabled:hover {\n",
              "    background-color: var(--disabled-bg-color);\n",
              "    fill: var(--disabled-fill-color);\n",
              "    box-shadow: none;\n",
              "  }\n",
              "\n",
              "  .colab-df-spinner {\n",
              "    border: 2px solid var(--fill-color);\n",
              "    border-color: transparent;\n",
              "    border-bottom-color: var(--fill-color);\n",
              "    animation:\n",
              "      spin 1s steps(1) infinite;\n",
              "  }\n",
              "\n",
              "  @keyframes spin {\n",
              "    0% {\n",
              "      border-color: transparent;\n",
              "      border-bottom-color: var(--fill-color);\n",
              "      border-left-color: var(--fill-color);\n",
              "    }\n",
              "    20% {\n",
              "      border-color: transparent;\n",
              "      border-left-color: var(--fill-color);\n",
              "      border-top-color: var(--fill-color);\n",
              "    }\n",
              "    30% {\n",
              "      border-color: transparent;\n",
              "      border-left-color: var(--fill-color);\n",
              "      border-top-color: var(--fill-color);\n",
              "      border-right-color: var(--fill-color);\n",
              "    }\n",
              "    40% {\n",
              "      border-color: transparent;\n",
              "      border-right-color: var(--fill-color);\n",
              "      border-top-color: var(--fill-color);\n",
              "    }\n",
              "    60% {\n",
              "      border-color: transparent;\n",
              "      border-right-color: var(--fill-color);\n",
              "    }\n",
              "    80% {\n",
              "      border-color: transparent;\n",
              "      border-right-color: var(--fill-color);\n",
              "      border-bottom-color: var(--fill-color);\n",
              "    }\n",
              "    90% {\n",
              "      border-color: transparent;\n",
              "      border-bottom-color: var(--fill-color);\n",
              "    }\n",
              "  }\n",
              "</style>\n",
              "\n",
              "  <script>\n",
              "    async function quickchart(key) {\n",
              "      const quickchartButtonEl =\n",
              "        document.querySelector('#' + key + ' button');\n",
              "      quickchartButtonEl.disabled = true;  // To prevent multiple clicks.\n",
              "      quickchartButtonEl.classList.add('colab-df-spinner');\n",
              "      try {\n",
              "        const charts = await google.colab.kernel.invokeFunction(\n",
              "            'suggestCharts', [key], {});\n",
              "      } catch (error) {\n",
              "        console.error('Error during call to suggestCharts:', error);\n",
              "      }\n",
              "      quickchartButtonEl.classList.remove('colab-df-spinner');\n",
              "      quickchartButtonEl.classList.add('colab-df-quickchart-complete');\n",
              "    }\n",
              "    (() => {\n",
              "      let quickchartButtonEl =\n",
              "        document.querySelector('#df-f7cb22b2-b1f6-4f27-a62f-1ae8b4280123 button');\n",
              "      quickchartButtonEl.style.display =\n",
              "        google.colab.kernel.accessAllowed ? 'block' : 'none';\n",
              "    })();\n",
              "  </script>\n",
              "</div>\n",
              "\n",
              "  <div id=\"id_d929d6bb-4fa2-4a50-ae87-6a21f8b8078a\">\n",
              "    <style>\n",
              "      .colab-df-generate {\n",
              "        background-color: #E8F0FE;\n",
              "        border: none;\n",
              "        border-radius: 50%;\n",
              "        cursor: pointer;\n",
              "        display: none;\n",
              "        fill: #1967D2;\n",
              "        height: 32px;\n",
              "        padding: 0 0 0 0;\n",
              "        width: 32px;\n",
              "      }\n",
              "\n",
              "      .colab-df-generate:hover {\n",
              "        background-color: #E2EBFA;\n",
              "        box-shadow: 0px 1px 2px rgba(60, 64, 67, 0.3), 0px 1px 3px 1px rgba(60, 64, 67, 0.15);\n",
              "        fill: #174EA6;\n",
              "      }\n",
              "\n",
              "      [theme=dark] .colab-df-generate {\n",
              "        background-color: #3B4455;\n",
              "        fill: #D2E3FC;\n",
              "      }\n",
              "\n",
              "      [theme=dark] .colab-df-generate:hover {\n",
              "        background-color: #434B5C;\n",
              "        box-shadow: 0px 1px 3px 1px rgba(0, 0, 0, 0.15);\n",
              "        filter: drop-shadow(0px 1px 2px rgba(0, 0, 0, 0.3));\n",
              "        fill: #FFFFFF;\n",
              "      }\n",
              "    </style>\n",
              "    <button class=\"colab-df-generate\" onclick=\"generateWithVariable('passengers_df')\"\n",
              "            title=\"Generate code using this dataframe.\"\n",
              "            style=\"display:none;\">\n",
              "\n",
              "  <svg xmlns=\"http://www.w3.org/2000/svg\" height=\"24px\"viewBox=\"0 0 24 24\"\n",
              "       width=\"24px\">\n",
              "    <path d=\"M7,19H8.4L18.45,9,17,7.55,7,17.6ZM5,21V16.75L18.45,3.32a2,2,0,0,1,2.83,0l1.4,1.43a1.91,1.91,0,0,1,.58,1.4,1.91,1.91,0,0,1-.58,1.4L9.25,21ZM18.45,9,17,7.55Zm-12,3A5.31,5.31,0,0,0,4.9,8.1,5.31,5.31,0,0,0,1,6.5,5.31,5.31,0,0,0,4.9,4.9,5.31,5.31,0,0,0,6.5,1,5.31,5.31,0,0,0,8.1,4.9,5.31,5.31,0,0,0,12,6.5,5.46,5.46,0,0,0,6.5,12Z\"/>\n",
              "  </svg>\n",
              "    </button>\n",
              "    <script>\n",
              "      (() => {\n",
              "      const buttonEl =\n",
              "        document.querySelector('#id_d929d6bb-4fa2-4a50-ae87-6a21f8b8078a button.colab-df-generate');\n",
              "      buttonEl.style.display =\n",
              "        google.colab.kernel.accessAllowed ? 'block' : 'none';\n",
              "\n",
              "      buttonEl.onclick = () => {\n",
              "        google.colab.notebook.generateWithVariable('passengers_df');\n",
              "      }\n",
              "      })();\n",
              "    </script>\n",
              "  </div>\n",
              "\n",
              "    </div>\n",
              "  </div>\n"
            ],
            "application/vnd.google.colaboratory.intrinsic+json": {
              "type": "dataframe",
              "variable_name": "passengers_df"
            }
          },
          "metadata": {},
          "execution_count": 5
        }
      ]
    },
    {
      "cell_type": "markdown",
      "source": [
        "# 1. Understanding the Data\n",
        "\n"
      ],
      "metadata": {
        "id": "636rWZAUCyO0"
      }
    },
    {
      "cell_type": "markdown",
      "source": [
        "## 1.0. Review and understand the provided data\n",
        "Review the pandas dataframe and its contents. Get familiar with the data provided and the contents. The data was collected from all passengers on-board, by asking each one of the passengers the following questions (possible answers shown in parenthesis):\n",
        "\n",
        "* What is your Sex? (male/female)\n",
        "* What is your year of birth? (year)\n",
        "* What \"class\" is your ticket? ('1st', '2nd', '3rd', or 'employee')\n",
        "* Did you know the victim? (yes/no)\n",
        "* Do you own a pocket knife? (yes/no)\n",
        "* Do you have access to 1st class? (yes/no)\n",
        "* Do you own a handkerchief? (yes/no)\n",
        "* Do you wear black shoes? (yes/no)\n",
        "* Do you have an alibi for the time of the murder? (yes/no)\n",
        "* Were you outside of your compartment after midnight? (yes/no)\n",
        "\n",
        "## 1.1. Statistics and Visualization\n",
        "\n",
        "### 1.1.1. Generate a histogram of \"Year of birth\" for each passenger\n",
        "Use 10 bins, to accommodate ages from 1 to 100 years old, in intervals of 10 years."
      ],
      "metadata": {
        "id": "xopcmMv2C8ip"
      }
    },
    {
      "cell_type": "code",
      "source": [
        "\n",
        "passenger_hist = plt.hist(passengers_df[\"Year of birth\"], bins=10, edgecolor='black')"
      ],
      "metadata": {
        "colab": {
          "base_uri": "https://localhost:8080/",
          "height": 487
        },
        "id": "IKiY2f9NB129",
        "outputId": "4ada8464-3c4c-415e-cffd-446445cfaf1d"
      },
      "execution_count": null,
      "outputs": [
        {
          "output_type": "stream",
          "name": "stderr",
          "text": [
            "/usr/local/lib/python3.10/dist-packages/ipykernel/ipkernel.py:283: DeprecationWarning: `should_run_async` will not call `transform_cell` automatically in the future. Please pass the result to `transformed_cell` argument and any exception that happen during thetransform in `preprocessing_exc_tuple` in IPython 7.17 and above.\n",
            "  and should_run_async(code)\n"
          ]
        },
        {
          "output_type": "display_data",
          "data": {
            "text/plain": [
              "<Figure size 640x480 with 1 Axes>"
            ],
            "image/png": "[encoded data removed]"
          },
          "metadata": {}
        }
      ]
    },
    {
      "cell_type": "markdown",
      "source": [
        "### 1.1.2. Examine the results of the histogram\n",
        "What is wrong with the histogram? What does it tell us about the \"correctness\" of the data?\n",
        "\n",
        "The data for \"Year of birth\" was partially incorrect. Some data had dates greater than 2024, 2024 is considered the current year in the problem. I removed the rows with dates greater than 2024. Some dates were in the 9990's which is why there is such a large gap in the histogram between where the correct data is and the few entries that are incorrect.\n"
      ],
      "metadata": {
        "id": "9ZCqqt_mBpJM"
      }
    },
    {
      "cell_type": "markdown",
      "source": [
        "### 1.1.3. Generate a table with the number of people in each \"Class\"\n",
        "The table should include \"1st\", \"2nd\", \"3rd\" and \"employee\".\n"
      ],
      "metadata": {
        "id": "4cYWyOHcBrmd"
      }
    },
    {
      "cell_type": "code",
      "source": [
        "# creates DataFrame with 1st, 2nd, 3rd, and employee values\n",
        "accepted_classes = [\"1st\", \"2nd\", \"3rd\", \"employee\"]\n",
        "passenger_by_class = passengers_df[passengers_df[\"Class\"].isin(accepted_classes)]\n",
        "passenger_by_class[\"Class\"].value_counts()"
      ],
      "metadata": {
        "colab": {
          "base_uri": "https://localhost:8080/"
        },
        "id": "YYN3Ao3FB3MI",
        "outputId": "845e93bb-5d2f-435b-d4a3-9b61a7de2e7a"
      },
      "execution_count": null,
      "outputs": [
        {
          "output_type": "stream",
          "name": "stderr",
          "text": [
            "/usr/local/lib/python3.10/dist-packages/ipykernel/ipkernel.py:283: DeprecationWarning: `should_run_async` will not call `transform_cell` automatically in the future. Please pass the result to `transformed_cell` argument and any exception that happen during thetransform in `preprocessing_exc_tuple` in IPython 7.17 and above.\n",
            "  and should_run_async(code)\n"
          ]
        },
        {
          "output_type": "execute_result",
          "data": {
            "text/plain": [
              "Class\n",
              "3rd         129083\n",
              "2nd         129055\n",
              "1st          77441\n",
              "employee     13024\n",
              "Name: count, dtype: int64"
            ]
          },
          "metadata": {},
          "execution_count": 7
        }
      ]
    },
    {
      "cell_type": "markdown",
      "source": [
        "### 1.1.4. Examine the results of the table\n",
        "What is wrong with the table contents? Why the sum of all passengers in the table does not add up to the total number of passengers?\n",
        "Review all the answers to the question \"What 'class' is your ticket?\" and generate a new table with the count for each answer. The total number of answers should now match the sum of all passenger. Identify the answers that are unexpected (i.e., answers that are not in the list ['1st', '2nd', '3rd', or 'employee']\n",
        "\n"
      ],
      "metadata": {
        "id": "KqfP5EC5BuF2"
      }
    },
    {
      "cell_type": "markdown",
      "source": [
        "In the list of unique values from the \"Class\" column there are values that wouldn't be included as a passenger. \"luggage\", \"pet\", \"0\", and nan are values that are excluded from the total number of passengers because they are not considered passengers/people. \"4th\" was excluded from the list requested. That is why the count for the table in 1.1.3 is less than that of the whole table of original data."
      ],
      "metadata": {
        "id": "7t9Jn01-auOI"
      }
    },
    {
      "cell_type": "markdown",
      "source": [
        "### 1.1.5. Generate a pie chart of responses to the question \"Knows the victim\"\n"
      ],
      "metadata": {
        "id": "R9xjUqr3BwpZ"
      }
    },
    {
      "cell_type": "code",
      "source": [
        "# data set up for pie chart\n",
        "values = passengers_df[\"Knows the victim\"].value_counts().to_numpy()\n",
        "labels = passengers_df[\"Knows the victim\"].value_counts().index\n",
        "\n",
        "fig, ax = plt.subplots()\n",
        "ax.pie(values, labels=labels, autopct='%1.1f%%')"
      ],
      "metadata": {
        "colab": {
          "base_uri": "https://localhost:8080/",
          "height": 631
        },
        "id": "xfCbAdmJB4gw",
        "outputId": "caf2990d-4000-4f06-85f8-8246a92767a6"
      },
      "execution_count": null,
      "outputs": [
        {
          "output_type": "stream",
          "name": "stderr",
          "text": [
            "/usr/local/lib/python3.10/dist-packages/ipykernel/ipkernel.py:283: DeprecationWarning: `should_run_async` will not call `transform_cell` automatically in the future. Please pass the result to `transformed_cell` argument and any exception that happen during thetransform in `preprocessing_exc_tuple` in IPython 7.17 and above.\n",
            "  and should_run_async(code)\n"
          ]
        },
        {
          "output_type": "execute_result",
          "data": {
            "text/plain": [
              "([<matplotlib.patches.Wedge at 0x7d1935b5e680>,\n",
              "  <matplotlib.patches.Wedge at 0x7d1935b33a60>,\n",
              "  <matplotlib.patches.Wedge at 0x7d1935b5f250>],\n",
              " [Text(-1.003119786769535, 0.4513875201990449, 'yes'),\n",
              "  Text(1.0020473638269578, -0.45376324294442866, 'no'),\n",
              "  Text(1.0999969119036919, -0.002606492344417862, 'Unknown')],\n",
              " [Text(-0.5471562473288372, 0.24621137465402446, '86.5%'),\n",
              "  Text(0.5465712893601588, -0.24750722342423376, '13.4%'),\n",
              "  Text(0.5999983155838319, -0.0014217230969551973, '0.1%')])"
            ]
          },
          "metadata": {},
          "execution_count": 8
        },
        {
          "output_type": "display_data",
          "data": {
            "text/plain": [
              "<Figure size 640x480 with 1 Axes>"
            ],
            "image/png": "[encoded data removed]"
          },
          "metadata": {}
        }
      ]
    },
    {
      "cell_type": "markdown",
      "source": [
        "### 1.1.6. Examine the results of the chart\n",
        "What is wrong with the pie chart?\n"
      ],
      "metadata": {
        "id": "-16eWhmvByVt"
      }
    },
    {
      "cell_type": "markdown",
      "source": [
        "The chart has some input listed as 'Unknown'. The chart is meant to assess the people who know the victim. 'Unknown' isn't useful. This is an error in the data that needs to be cleaned."
      ],
      "metadata": {
        "id": "La-uIUeagvEk"
      }
    },
    {
      "cell_type": "markdown",
      "source": [
        "### 1.1.7. Unknown\n",
        "Find out the columns in the data that include \"Unknown\" and the number of them. For this, examine the response to each question and count to entries where the answer is the word \"Unknown\"."
      ],
      "metadata": {
        "id": "WpNcymVeB0OB"
      }
    },
    {
      "cell_type": "code",
      "source": [
        "# function to count \"Unknown\" values in each column\n",
        "\n",
        "def unknowncheck(passengers_df):\n",
        "  accepted_classes = [\"Unknown\"]\n",
        "  unknown_list = []\n",
        "  print('Columns that contain \\'Unknown\\':\\n')\n",
        "  for col_name in passengers_df.columns:\n",
        "    df_unknown_check = passengers_df[passengers_df[col_name].isin([\"Unknown\"])]\n",
        "    if df_unknown_check.size > 0:\n",
        "      print(df_unknown_check[col_name].value_counts(), \"\\n\")\n",
        "      unknown_list.append(col_name)\n",
        "\n",
        "unknowncheck(passengers_df)\n"
      ],
      "metadata": {
        "colab": {
          "base_uri": "https://localhost:8080/"
        },
        "id": "ILA4Rd7hB6G1",
        "outputId": "539dc2c1-39ed-433e-b85d-81bc8af5c3ea"
      },
      "execution_count": null,
      "outputs": [
        {
          "output_type": "stream",
          "name": "stderr",
          "text": [
            "/usr/local/lib/python3.10/dist-packages/ipykernel/ipkernel.py:283: DeprecationWarning: `should_run_async` will not call `transform_cell` automatically in the future. Please pass the result to `transformed_cell` argument and any exception that happen during thetransform in `preprocessing_exc_tuple` in IPython 7.17 and above.\n",
            "  and should_run_async(code)\n"
          ]
        },
        {
          "output_type": "stream",
          "name": "stdout",
          "text": [
            "Columns that contain 'Unknown':\n",
            "\n",
            "Has an alibi\n",
            "Unknown    247\n",
            "Name: count, dtype: int64 \n",
            "\n",
            "Knows the victim\n",
            "Unknown    264\n",
            "Name: count, dtype: int64 \n",
            "\n",
            "Owns a knife\n",
            "Unknown    226\n",
            "Name: count, dtype: int64 \n",
            "\n",
            "Has access to 1st class\n",
            "Unknown    226\n",
            "Name: count, dtype: int64 \n",
            "\n",
            "Owns a handkerchief\n",
            "Unknown    248\n",
            "Name: count, dtype: int64 \n",
            "\n",
            "Wears black shoes\n",
            "Unknown    281\n",
            "Name: count, dtype: int64 \n",
            "\n",
            "Seen after midnight\n",
            "Unknown    258\n",
            "Name: count, dtype: int64 \n",
            "\n"
          ]
        }
      ]
    },
    {
      "cell_type": "markdown",
      "source": [
        "# 2. Data Pre-Processing -\n",
        "\n",
        "From section 1, it is clear that there are three types of errors or inconsistencies in the original data, making \"data clean-up\" a necessary step. Once the dataset is clean, ir needs to be prepared for use with Association Rules algorithms.\n"
      ],
      "metadata": {
        "id": "nQqBocm2DA3z"
      }
    },
    {
      "cell_type": "markdown",
      "source": [
        "## 2.1. Data Clean-up\n",
        "\n",
        "In this section a new, clean, dataset will be created. The new dataset name should be \"passengers_clean_df\".\n",
        "\n",
        "There were three types of errors identified in the data in section 1."
      ],
      "metadata": {
        "id": "QzVuWEXwzTaF"
      }
    },
    {
      "cell_type": "code",
      "source": [
        "passengers_clean_df = passengers_df"
      ],
      "metadata": {
        "colab": {
          "base_uri": "https://localhost:8080/"
        },
        "id": "mLl8Au-ToPe4",
        "outputId": "5dadf241-cfa9-46c0-bb08-f94938ac64fc"
      },
      "execution_count": null,
      "outputs": [
        {
          "output_type": "stream",
          "name": "stderr",
          "text": [
            "/usr/local/lib/python3.10/dist-packages/ipykernel/ipkernel.py:283: DeprecationWarning: `should_run_async` will not call `transform_cell` automatically in the future. Please pass the result to `transformed_cell` argument and any exception that happen during thetransform in `preprocessing_exc_tuple` in IPython 7.17 and above.\n",
            "  and should_run_async(code)\n"
          ]
        }
      ]
    },
    {
      "cell_type": "markdown",
      "source": [
        "* Error type 1, and approach to clean it up\n",
        "\n",
        "First type of error is incorrect \"birth year\".\n",
        "As this is a murder investigation, we want to fix this problem in such a way that we do not \"reduce\" the number of suspects. An easy way is to assume everybody is \"an adult\" (18 years or older).\n",
        "\n",
        "So, for each incorrect entry, the data clean-up will be to set the passenger's birth date to the date for an adult. For instance, make all of them 20 years old.\n",
        "\n",
        "\n",
        "\n",
        "### 2.1.1. Database clean-up\n",
        "\n",
        "Generate a clean dataset by fixing the 3 types of errors described above. Place the new dataset in pandas DataFrame \"passengers_clean_df\"\n",
        "\n",
        "\n",
        "### 2.1.2. Verify that the database has been cleaned up\n",
        "\n",
        "Repeat the Histogram described in section 1.1.1, using the clean dataset. This Histogram should look correct.\n"
      ],
      "metadata": {
        "id": "IKtb3BPYseUx"
      }
    },
    {
      "cell_type": "markdown",
      "source": [
        "### Cleaning Data - all years > 2024, will = 2006\n"
      ],
      "metadata": {
        "id": "kejLKG-VKrbD"
      }
    },
    {
      "cell_type": "markdown",
      "source": [
        "### Histogram of \"Year of birth\" for each passenger\n",
        "Use 10 bins, to accommodate ages from 1 to 100 years old, in intervals of 10 years.\n",
        "\n",
        "All individuals that have incorrect data inputs will be set as an adult with a birth year of '2006'"
      ],
      "metadata": {
        "id": "bZFe6LAFPdeT"
      }
    },
    {
      "cell_type": "code",
      "source": [
        "# replaces all years greater than 2024 with 2006.\n",
        "years = np.array(passengers_clean_df['Year of birth'].values.tolist())\n",
        "passengers_clean_df['Year of birth'] = np.where(years > 2024, 2006, years).tolist()\n",
        "\n",
        "\n",
        "passenger_hist1 = plt.hist(passengers_clean_df[\"Year of birth\"], bins=10, edgecolor='black')\n",
        "\n"
      ],
      "metadata": {
        "colab": {
          "base_uri": "https://localhost:8080/",
          "height": 487
        },
        "id": "zqdJWBlhK3O0",
        "outputId": "c71c9009-bb4a-4e42-9883-843ca78f9425"
      },
      "execution_count": null,
      "outputs": [
        {
          "output_type": "stream",
          "name": "stderr",
          "text": [
            "/usr/local/lib/python3.10/dist-packages/ipykernel/ipkernel.py:283: DeprecationWarning: `should_run_async` will not call `transform_cell` automatically in the future. Please pass the result to `transformed_cell` argument and any exception that happen during thetransform in `preprocessing_exc_tuple` in IPython 7.17 and above.\n",
            "  and should_run_async(code)\n"
          ]
        },
        {
          "output_type": "display_data",
          "data": {
            "text/plain": [
              "<Figure size 640x480 with 1 Axes>"
            ],
            "image/png": "[encoded data removed]"
          },
          "metadata": {}
        }
      ]
    },
    {
      "cell_type": "markdown",
      "source": [
        "Below, the column \"Class\" is being cleaned so that all classifications are corrected to \"1st\"."
      ],
      "metadata": {
        "id": "usMvoW2kPy-1"
      }
    },
    {
      "cell_type": "code",
      "source": [
        "# if \"Class\" item not acceptable, it is replaced by \"1st\"\n",
        "\n",
        "all_classes = passengers_clean_df[\"Class\"].unique()\n",
        "accepted_classes = [\"1st\", \"2nd\", \"3rd\", \"employee\"]\n",
        "print('Check - \\\"Class\\\" column before cleaning, ', passengers_clean_df[\"Class\"].unique(), '\\n')\n",
        "for val_item in all_classes:\n",
        "  if val_item not in accepted_classes:\n",
        "    passengers_clean_df['Class'] = passengers_clean_df[\"Class\"].replace(val_item, '1st')\n",
        "\n",
        "print('\\nCheck - the \\\"Class\\\" column after, ', passengers_clean_df[\"Class\"].unique())\n"
      ],
      "metadata": {
        "id": "HkKA469dB36v",
        "colab": {
          "base_uri": "https://localhost:8080/"
        },
        "outputId": "6a98fae4-e5f9-44e0-c1ac-9ce84f266e4b"
      },
      "execution_count": null,
      "outputs": [
        {
          "output_type": "stream",
          "name": "stderr",
          "text": [
            "/usr/local/lib/python3.10/dist-packages/ipykernel/ipkernel.py:283: DeprecationWarning: `should_run_async` will not call `transform_cell` automatically in the future. Please pass the result to `transformed_cell` argument and any exception that happen during thetransform in `preprocessing_exc_tuple` in IPython 7.17 and above.\n",
            "  and should_run_async(code)\n"
          ]
        },
        {
          "output_type": "stream",
          "name": "stdout",
          "text": [
            "Check - \"Class\" column before cleaning,  ['3rd' '2nd' '1st' 'employee' '4th' '0' 'luggage' 'pet'] \n",
            "\n",
            "\n",
            "Check - the \"Class\" column after,  ['3rd' '2nd' '1st' 'employee']\n"
          ]
        }
      ]
    },
    {
      "cell_type": "markdown",
      "source": [
        "The next code section cleans the \"Unknown\" inputs, clarifies the 'yes' and 'no' answers for algorithms. \"Unknown\" values are chosen based on what an investigator would assume till information is cleared up.\n",
        "\n",
        "Example: If it's unknown whether someone has an alibi, it should be assumed that the person doesn't have an alibi till convinced otherwise."
      ],
      "metadata": {
        "id": "pKogrE3PQG8c"
      }
    },
    {
      "cell_type": "code",
      "source": [
        "# dict of values to replace 'Unknown', 'yes', and 'no' values\n",
        "unknown_replacement = {'Has an alibi': 'No alibi', 'Knows the victim': 'Knows the victim', 'Owns a knife': 'Owns a knife', 'Has access to 1st class': 'Has access to 1st class', 'Owns a handkerchief': 'Owns a handkerchief', 'Wears black shoes': 'Wears black shoes', 'Seen after midnight': 'Was not seen after midnight'}\n",
        "yes_replacement = {'Has an alibi': 'Has alibi', 'Knows the victim': 'Knows the victim', 'Owns a knife': 'Owns a knife', 'Has access to 1st class': 'Has access to 1st class', 'Owns a handkerchief': 'Owns a handkerchief', 'Wears black shoes': 'Wears black shoes', 'Seen after midnight': 'Seen after midnight'}\n",
        "no_replacement = {'Has an alibi': 'No alibi', 'Knows the victim': 'Does not know the victim', 'Owns a knife': 'Does not own a knife', 'Has access to 1st class': 'Does not have access to 1st class', 'Owns a handkerchief': 'Does not own a handkerchief', 'Wears black shoes': 'Does not wear black shoes', 'Seen after midnight': 'Was not seen after midnight'}\n",
        "# replaces column values for use in algorythm packages\n",
        "for col_name in yes_replacement.keys():\n",
        "  passengers_clean_df[col_name] = passengers_clean_df[col_name].replace('Unknown', unknown_replacement[col_name])\n",
        "  passengers_clean_df[col_name] = passengers_clean_df[col_name].replace('yes', yes_replacement[col_name])\n",
        "  passengers_clean_df[col_name] = passengers_clean_df[col_name].replace('no', no_replacement[col_name])\n",
        "\n",
        "unknowncheck(passengers_clean_df)\n"
      ],
      "metadata": {
        "id": "191Lk5UErWAo",
        "colab": {
          "base_uri": "https://localhost:8080/"
        },
        "outputId": "38a569c7-f1f0-472d-fc3a-28020c1f9487"
      },
      "execution_count": null,
      "outputs": [
        {
          "output_type": "stream",
          "name": "stderr",
          "text": [
            "/usr/local/lib/python3.10/dist-packages/ipykernel/ipkernel.py:283: DeprecationWarning: `should_run_async` will not call `transform_cell` automatically in the future. Please pass the result to `transformed_cell` argument and any exception that happen during thetransform in `preprocessing_exc_tuple` in IPython 7.17 and above.\n",
            "  and should_run_async(code)\n"
          ]
        },
        {
          "output_type": "stream",
          "name": "stdout",
          "text": [
            "Columns that contain 'Unknown':\n",
            "\n"
          ]
        }
      ]
    },
    {
      "cell_type": "markdown",
      "source": [
        "## 2.2. Data Preparation for Association Rules\n",
        "\n",
        "In order to prepare the dataset for identifying association rules, a transactions list must be created.\n",
        "\n",
        "Define and create a transactions list that can be used for \"Frequent Itemsets\" generation (see section 3).\n",
        "\n",
        "Before defining the format, review section 3 and identify the algorithms and packages that you will be using for analysis. Once the packages are identified, prepare the data here to match the input requirements for the algorithms."
      ],
      "metadata": {
        "id": "RV2iSHfaDGTj"
      }
    },
    {
      "cell_type": "markdown",
      "source": [
        "# 3. Frequent Itemsets\n",
        "\n",
        "Three algorithms were introduced in the lectures: APriori, FP Growth, and ECLAT. In this section we will select two of the three algorithms, and apply them to the transactions dataset to extract Frequent Itemsets. You can use any of the publicly available packages that include those algorithms.\n"
      ],
      "metadata": {
        "id": "VRhAqINAvavn"
      }
    },
    {
      "cell_type": "markdown",
      "source": [
        "## 3.1. Select and apply two algorithms\n",
        "Select two of the three algorithms discusses in class: APriori, FP Growth, and ECLAT.\n",
        "Identify an opensource python package that include the selected algorithms, and apply both algorithms to generate frequent itemsets. You will have to choose, at a minimum, a \"minsup\" value for generating the frequent itemsets. Explore different \"minsup\" values as you work towards have a short list of rules in section 4 below.\n"
      ],
      "metadata": {
        "id": "5b95XDja1yCg"
      }
    },
    {
      "cell_type": "markdown",
      "source": [
        "# **APriori:**"
      ],
      "metadata": {
        "id": "Akvtyp9LK0M2"
      }
    },
    {
      "cell_type": "code",
      "source": [
        "# convert to string for Apriori package\n",
        "passengers_clean_df = passengers_clean_df.astype(str)\n",
        "pass_list = passengers_clean_df.values.tolist()"
      ],
      "metadata": {
        "id": "r6WqIOWBxQjp",
        "colab": {
          "base_uri": "https://localhost:8080/"
        },
        "outputId": "00ac5513-eda6-479d-900a-cf060fe871e8"
      },
      "execution_count": null,
      "outputs": [
        {
          "output_type": "stream",
          "name": "stderr",
          "text": [
            "/usr/local/lib/python3.10/dist-packages/ipykernel/ipkernel.py:283: DeprecationWarning: `should_run_async` will not call `transform_cell` automatically in the future. Please pass the result to `transformed_cell` argument and any exception that happen during thetransform in `preprocessing_exc_tuple` in IPython 7.17 and above.\n",
            "  and should_run_async(code)\n"
          ]
        }
      ]
    },
    {
      "cell_type": "code",
      "source": [
        "rules = apriori(pass_list)"
      ],
      "metadata": {
        "colab": {
          "base_uri": "https://localhost:8080/"
        },
        "id": "lG_Ckw_TvFKs",
        "outputId": "f4377e95-4a65-4c44-aaf5-4abd45481ea2"
      },
      "execution_count": null,
      "outputs": [
        {
          "output_type": "stream",
          "name": "stderr",
          "text": [
            "/usr/local/lib/python3.10/dist-packages/ipykernel/ipkernel.py:283: DeprecationWarning: `should_run_async` will not call `transform_cell` automatically in the future. Please pass the result to `transformed_cell` argument and any exception that happen during thetransform in `preprocessing_exc_tuple` in IPython 7.17 and above.\n",
            "  and should_run_async(code)\n"
          ]
        }
      ]
    },
    {
      "cell_type": "code",
      "source": [
        "results = list(rules)\n",
        "results_list = {}\n",
        "for i in range(0, len(results)):\n",
        "    results_list[i] = [results[i][1], results[i][0]]\n",
        "sorted_dict = dict(sorted(results_list.items(), key=lambda item: item[1]))"
      ],
      "metadata": {
        "colab": {
          "base_uri": "https://localhost:8080/"
        },
        "id": "I0Em-_4bvFbG",
        "outputId": "fbf4e7fe-ef94-43c8-9251-121a4373ce43"
      },
      "execution_count": null,
      "outputs": [
        {
          "output_type": "stream",
          "name": "stderr",
          "text": [
            "/usr/local/lib/python3.10/dist-packages/ipykernel/ipkernel.py:283: DeprecationWarning: `should_run_async` will not call `transform_cell` automatically in the future. Please pass the result to `transformed_cell` argument and any exception that happen during thetransform in `preprocessing_exc_tuple` in IPython 7.17 and above.\n",
            "  and should_run_async(code)\n"
          ]
        }
      ]
    },
    {
      "cell_type": "markdown",
      "source": [
        "\n",
        "## 3.2. List the top 10 itemsets with the highest support\n",
        "List the top 10 frequent itemsets with the highest support from one of the two selected algorithms above.\n"
      ],
      "metadata": {
        "id": "gE054ISAxRKM"
      }
    },
    {
      "cell_type": "code",
      "source": [
        "print('- Top Ten frequent itemsets -\\n')\n",
        "\n",
        "removed_num = len(sorted_dict) - 10\n",
        "list_num = 10\n",
        "for item in sorted_dict:\n",
        "  if removed_num == 0:\n",
        "    print(list_num, ':\\nSupport: ', sorted_dict[item][0], '\\nItemset: ', sorted_dict[item][1], '\\n')\n",
        "    list_num -= 1\n",
        "  else:\n",
        "    removed_num = removed_num - 1"
      ],
      "metadata": {
        "colab": {
          "base_uri": "https://localhost:8080/"
        },
        "id": "Fie4i77V2TpG",
        "outputId": "0408f80d-9c04-4220-be78-058b063ba035"
      },
      "execution_count": null,
      "outputs": [
        {
          "output_type": "stream",
          "name": "stdout",
          "text": [
            "- Top Ten frequent itemsets -\n",
            "\n",
            "10 :\n",
            "Support:  0.6940485714285715 \n",
            "Itemset:  frozenset({'Has access to 1st class', 'Wears black shoes'}) \n",
            "\n",
            "9 :\n",
            "Support:  0.7032142857142857 \n",
            "Itemset:  frozenset({'Seen after midnight'}) \n",
            "\n",
            "8 :\n",
            "Support:  0.7304714285714285 \n",
            "Itemset:  frozenset({'Wears black shoes'}) \n",
            "\n",
            "7 :\n",
            "Support:  0.74412 \n",
            "Itemset:  frozenset({'Has access to 1st class', 'Owns a handkerchief', 'Knows the victim'}) \n",
            "\n",
            "6 :\n",
            "Support:  0.7829428571428572 \n",
            "Itemset:  frozenset({'Owns a handkerchief', 'Knows the victim'}) \n",
            "\n",
            "5 :\n",
            "Support:  0.82322 \n",
            "Itemset:  frozenset({'Has access to 1st class', 'Knows the victim'}) \n",
            "\n",
            "4 :\n",
            "Support:  0.8591114285714285 \n",
            "Itemset:  frozenset({'Has access to 1st class', 'Owns a handkerchief'}) \n",
            "\n",
            "3 :\n",
            "Support:  0.86616 \n",
            "Itemset:  frozenset({'Knows the victim'}) \n",
            "\n",
            "2 :\n",
            "Support:  0.9043085714285715 \n",
            "Itemset:  frozenset({'Owns a handkerchief'}) \n",
            "\n",
            "1 :\n",
            "Support:  0.9500485714285715 \n",
            "Itemset:  frozenset({'Has access to 1st class'}) \n",
            "\n"
          ]
        },
        {
          "output_type": "stream",
          "name": "stderr",
          "text": [
            "/usr/local/lib/python3.10/dist-packages/ipykernel/ipkernel.py:283: DeprecationWarning: `should_run_async` will not call `transform_cell` automatically in the future. Please pass the result to `transformed_cell` argument and any exception that happen during thetransform in `preprocessing_exc_tuple` in IPython 7.17 and above.\n",
            "  and should_run_async(code)\n"
          ]
        }
      ]
    },
    {
      "cell_type": "markdown",
      "source": [
        "# **FP Growth**"
      ],
      "metadata": {
        "id": "OirVpm2xa6s5"
      }
    },
    {
      "cell_type": "code",
      "source": [
        "# data setup for algorithm\n",
        "\n",
        "dataset = passengers_clean_df.values\n",
        "te = TransactionEncoder()\n",
        "te_ary = te.fit(dataset).transform(dataset)\n",
        "df = pd.DataFrame(te_ary, columns=te.columns_)\n",
        "\n"
      ],
      "metadata": {
        "id": "3sB6FkdbcU4r",
        "colab": {
          "base_uri": "https://localhost:8080/"
        },
        "outputId": "c610b74d-d2c6-4c3f-82ca-283e5a1ed83b"
      },
      "execution_count": null,
      "outputs": [
        {
          "output_type": "stream",
          "name": "stderr",
          "text": [
            "/usr/local/lib/python3.10/dist-packages/ipykernel/ipkernel.py:283: DeprecationWarning: `should_run_async` will not call `transform_cell` automatically in the future. Please pass the result to `transformed_cell` argument and any exception that happen during thetransform in `preprocessing_exc_tuple` in IPython 7.17 and above.\n",
            "  and should_run_async(code)\n"
          ]
        }
      ]
    },
    {
      "cell_type": "code",
      "source": [
        "fp_support = fpgrowth(df, min_support=0.35, use_colnames=True)"
      ],
      "metadata": {
        "id": "klOAsPrVtBxC",
        "colab": {
          "base_uri": "https://localhost:8080/"
        },
        "outputId": "30bb72c2-972f-4e9e-9ab0-725b6cb14a43"
      },
      "execution_count": null,
      "outputs": [
        {
          "output_type": "stream",
          "name": "stderr",
          "text": [
            "/usr/local/lib/python3.10/dist-packages/ipykernel/ipkernel.py:283: DeprecationWarning: `should_run_async` will not call `transform_cell` automatically in the future. Please pass the result to `transformed_cell` argument and any exception that happen during thetransform in `preprocessing_exc_tuple` in IPython 7.17 and above.\n",
            "  and should_run_async(code)\n"
          ]
        }
      ]
    },
    {
      "cell_type": "markdown",
      "source": [
        "\n",
        "## 3.2. List the top 10 itemsets with the highest support\n",
        "List the top 10 frequent itemsets with the highest support from one of the two selected algorithms above.\n",
        "\n",
        "\n",
        "Order: From the most to the least"
      ],
      "metadata": {
        "id": "_yNDdn5Y_bMx"
      }
    },
    {
      "cell_type": "code",
      "source": [
        "print('Top Ten:')\n",
        "print(fp_support.sort_values(by=['support'], ascending=False)[:10])"
      ],
      "metadata": {
        "id": "kYstS8hW9O1p",
        "colab": {
          "base_uri": "https://localhost:8080/"
        },
        "outputId": "a699c441-62cf-4db3-8618-5a3c09673536"
      },
      "execution_count": null,
      "outputs": [
        {
          "output_type": "stream",
          "name": "stdout",
          "text": [
            "Top Ten:\n",
            "     support                                           itemsets\n",
            "0   0.950049                          (Has access to 1st class)\n",
            "1   0.904309                              (Owns a handkerchief)\n",
            "2   0.866160                                 (Knows the victim)\n",
            "13  0.859111     (Has access to 1st class, Owns a handkerchief)\n",
            "14  0.823220        (Has access to 1st class, Knows the victim)\n",
            "15  0.782943            (Owns a handkerchief, Knows the victim)\n",
            "16  0.744120  (Has access to 1st class, Owns a handkerchief,...\n",
            "3   0.730471                                (Wears black shoes)\n",
            "8   0.703214                              (Seen after midnight)\n",
            "17  0.694049       (Has access to 1st class, Wears black shoes)\n"
          ]
        },
        {
          "output_type": "stream",
          "name": "stderr",
          "text": [
            "/usr/local/lib/python3.10/dist-packages/ipykernel/ipkernel.py:283: DeprecationWarning: `should_run_async` will not call `transform_cell` automatically in the future. Please pass the result to `transformed_cell` argument and any exception that happen during thetransform in `preprocessing_exc_tuple` in IPython 7.17 and above.\n",
            "  and should_run_async(code)\n"
          ]
        }
      ]
    },
    {
      "cell_type": "markdown",
      "source": [
        "## 3.3. Compare runtime between the 2 selected algorithms\n",
        "**When running the selected algorithms, compare their runtime.**\n",
        "\n",
        "\n",
        "The runtime shows up next to the field, I isolated each line of code that uses each algorithm for calculating support. It took the APriori 14 minutes to complete. FP Growth took aproximately 2 minutes to complete."
      ],
      "metadata": {
        "id": "jJYtgBTyxTH-"
      }
    },
    {
      "cell_type": "markdown",
      "source": [
        "# 4. Rules - APriori\n",
        "\n",
        "Generate rules. List rules by confidence. You can use any of the publicly available python packages that include algorithms to generate rules.\n"
      ],
      "metadata": {
        "id": "Sdx_SDdxvjf5"
      }
    },
    {
      "cell_type": "markdown",
      "source": [
        "## 4.1. Apply an algorithm to create rules based on the frequent itemsets from the previous section\n",
        "\n",
        "Select one of the two algorithms in section 3 to move to rule generation. Identify an opensource python package that can generate rules and proceed to generate them. The main parameter to use in generating rules should be \"confidence\", but you can use other parameters as well by explaining why you'd prefer to use them instead of \"confidence\".\n",
        "\n",
        "Iterate between section 3.2 and 4.1 to fine-tune the selection of \"minsup\" and \"confidence\" until you get a reasonable set of rules.\n"
      ],
      "metadata": {
        "id": "cFjtEikDUHY9"
      }
    },
    {
      "cell_type": "markdown",
      "source": [
        "## 4.2. Display the top 10 rules, by confidence\n",
        "\n",
        "With your final selected \"minsup\" and \"confidence\", generate and display the top 10 rules by \"confidence\".\n",
        "\n",
        "\n",
        "Which includes all the itemsets from the support lists."
      ],
      "metadata": {
        "id": "I86Foy-_Gton"
      }
    },
    {
      "cell_type": "code",
      "source": [
        "!pip install efficient-apriori\n",
        "from efficient_apriori import apriori\n",
        "\n",
        "# convert to list of tuples for APriori algorithm package\n",
        "pass_list =[tuple(row) for row in passengers_clean_df.values.tolist()]\n",
        "\n",
        "itemsets, rules = apriori(pass_list, min_support=0.17, min_confidence=0.951)\n",
        "print('Top Ten Rules with highest Confidence:\\n')\n",
        "print(len(rules), 'total rules')\n",
        "for rule in rules:\n",
        "  print(rule)\n"
      ],
      "metadata": {
        "id": "B8a0PB3gG5OT",
        "colab": {
          "base_uri": "https://localhost:8080/"
        },
        "outputId": "a5fb0580-5269-4a40-fd91-c307e532f205"
      },
      "execution_count": null,
      "outputs": [
        {
          "output_type": "stream",
          "name": "stderr",
          "text": [
            "/usr/local/lib/python3.10/dist-packages/ipykernel/ipkernel.py:283: DeprecationWarning: `should_run_async` will not call `transform_cell` automatically in the future. Please pass the result to `transformed_cell` argument and any exception that happen during thetransform in `preprocessing_exc_tuple` in IPython 7.17 and above.\n",
            "  and should_run_async(code)\n"
          ]
        },
        {
          "output_type": "stream",
          "name": "stdout",
          "text": [
            "Requirement already satisfied: efficient-apriori in /usr/local/lib/python3.10/dist-packages (2.0.3)\n",
            "Top Ten Rules with highest Confidence:\n",
            "\n",
            "10 total rules\n",
            "{Knows the victim, Owns a knife, male} -> {Has access to 1st class} (conf: 0.951, supp: 0.247, lift: 1.001, conv: 1.023)\n",
            "{Owns a knife, Wears black shoes, male} -> {Has access to 1st class} (conf: 0.951, supp: 0.209, lift: 1.001, conv: 1.021)\n",
            "{3rd, Knows the victim, Owns a handkerchief, Seen after midnight} -> {Has access to 1st class} (conf: 0.951, supp: 0.194, lift: 1.001, conv: 1.020)\n",
            "{Has alibi, Knows the victim, Owns a handkerchief, male} -> {Has access to 1st class} (conf: 0.951, supp: 0.234, lift: 1.001, conv: 1.021)\n",
            "{Has alibi, Knows the victim, Seen after midnight, male} -> {Has access to 1st class} (conf: 0.951, supp: 0.182, lift: 1.001, conv: 1.022)\n",
            "{Knows the victim, Owns a handkerchief, Owns a knife, male} -> {Has access to 1st class} (conf: 0.951, supp: 0.224, lift: 1.001, conv: 1.020)\n",
            "{Knows the victim, Owns a knife, Seen after midnight, male} -> {Has access to 1st class} (conf: 0.951, supp: 0.174, lift: 1.001, conv: 1.026)\n",
            "{Knows the victim, Owns a knife, Wears black shoes, male} -> {Has access to 1st class} (conf: 0.952, supp: 0.181, lift: 1.002, conv: 1.031)\n",
            "{Has alibi, Knows the victim, Owns a handkerchief, Wears black shoes, male} -> {Has access to 1st class} (conf: 0.951, supp: 0.171, lift: 1.001, conv: 1.025)\n",
            "{Knows the victim, Owns a handkerchief, Seen after midnight, Wears black shoes, male} -> {Has access to 1st class} (conf: 0.951, supp: 0.191, lift: 1.001, conv: 1.020)\n"
          ]
        }
      ]
    },
    {
      "cell_type": "markdown",
      "source": [
        "# 5. Solving the murder\n",
        "\n",
        "Now that we have determined frequent itemsets and rules, it is time to generate information that can be useful to identify key suspects in the murder case.\n",
        "\n",
        "Start by using the following \"antecedents\" to a rule:\n",
        "\n",
        "{'Has access to 1st class', 'Adult', 'Owns a handkerchief'}\n",
        "\n",
        "then generate rules that meet the criteria. You may need to adjust the support and/or confidence in the previous sections to get a pool of items large enough.\n",
        "\n",
        "Once you have identified rules that meet the above antecedents, find at least one passenger that could be a suspect. Please note that the main two reasons for discarding a suspect are: \"Has an alibi\", and is not and \"Adult\".\n",
        "\n"
      ],
      "metadata": {
        "id": "JoBJ2Imdvlsg"
      }
    },
    {
      "cell_type": "markdown",
      "source": [
        "# Choices made:\n",
        "\n",
        "Filtered Out -\n",
        "*   \"Has an alibi\"\n",
        "*   Not \"Adults\"\n",
        "\n",
        "\n",
        "\n",
        "\n",
        "\n",
        "\n"
      ],
      "metadata": {
        "id": "SlEOux8qa9cW"
      }
    },
    {
      "cell_type": "code",
      "source": [
        "\n",
        "# removing \"Has an alibi\", and is not an \"Adult\"\n",
        "passengers_clean_df1 = pd.DataFrame(passengers_clean_df)\n",
        "passengers_clean_df1['Year of birth'] = passengers_clean_df1['Year of birth'].astype('int64')\n",
        "\n",
        "\n",
        "filtered_values = np.where((passengers_clean_df1[\"Year of birth\"] < 2007) & (passengers_clean_df1[\"Has an alibi\"].str.startswith('N')))\n",
        "murder_suspects = passengers_clean_df1.iloc[filtered_values]\n",
        "print(\"Total Suspects: \", len(murder_suspects), '\\n')\n",
        "\n",
        "\n",
        "# (conf: 0.951, supp: 0.209, lift: 1.001, conv: 1.021)\n",
        "print('Rule 1: {Owns a knife, Wears black shoes, male} -> {Has access to 1st class} ')\n",
        "filtered_values = np.where((murder_suspects[\"Owns a knife\"].str.startswith('O')) & (murder_suspects[\"Wears black shoes\"].str.startswith('W')) & (murder_suspects[\"Sex\"].str.startswith('m')) & (murder_suspects[\"Has access to 1st class\"].str.startswith('H')))\n",
        "murder_rule1 = murder_suspects.iloc[filtered_values]\n",
        "print(\"total suspects after rule 1: \", len(murder_rule1), '\\n')\n",
        "\n",
        "# (conf: 0.951, supp: 0.163, lift: 1.001, conv: 1.016)\n",
        "print('Rule 2: {Owns a handkerchief, Owns a knife, male, no alibi} -> {Has access to 1st class}')\n",
        "filtered_values = np.where((murder_rule1[\"Owns a handkerchief\"].str.startswith('O')) & (murder_rule1[\"Owns a knife\"].str.startswith('O')) & (murder_rule1[\"Sex\"].str.startswith('m')) & (murder_rule1[\"Has access to 1st class\"].str.startswith('H')))\n",
        "murder_rule2 = murder_rule1.iloc[filtered_values]\n",
        "print(\"total suspects after rule 2: \", len(murder_rule2), '\\n')\n",
        "\n",
        "# (conf: 0.951, supp: 0.194, lift: 1.001, conv: 1.020)\n",
        "print('Rule 3: {3rd, Knows the victim, Owns a handkerchief, Seen after midnight} -> {Has access to 1st class}')\n",
        "filtered_values = np.where((murder_rule2[\"Class\"].str.startswith('3')) & (murder_rule2[\"Owns a handkerchief\"].str.startswith('O')) & (murder_rule2[\"Knows the victim\"].str.startswith('K')) & (murder_rule2[\"Seen after midnight\"].str.startswith('S'))  & (murder_rule2[\"Has access to 1st class\"].str.startswith('H')))\n",
        "murder_rule3 = murder_rule2.iloc[filtered_values]\n",
        "print(\"total suspects after rule 3: \", len(murder_rule3), '\\n')\n",
        "\n",
        "\n",
        "# print(murder_rule3.iloc[[0]])\n",
        "\n"
      ],
      "metadata": {
        "colab": {
          "base_uri": "https://localhost:8080/"
        },
        "id": "KbWmjXjE4TU8",
        "outputId": "8c91dd6e-9855-4623-f83c-48b0198c0fae"
      },
      "execution_count": null,
      "outputs": [
        {
          "output_type": "stream",
          "name": "stderr",
          "text": [
            "/usr/local/lib/python3.10/dist-packages/ipykernel/ipkernel.py:283: DeprecationWarning: `should_run_async` will not call `transform_cell` automatically in the future. Please pass the result to `transformed_cell` argument and any exception that happen during thetransform in `preprocessing_exc_tuple` in IPython 7.17 and above.\n",
            "  and should_run_async(code)\n"
          ]
        },
        {
          "output_type": "stream",
          "name": "stdout",
          "text": [
            "Total Suspects:  106177 \n",
            "\n",
            "Rule 1: {Owns a knife, Wears black shoes, male} -> {Has access to 1st class} \n",
            "total suspects after rule 1:  22345 \n",
            "\n",
            "Rule 2: {Owns a handkerchief, Owns a knife, male, no alibi} -> {Has access to 1st class}\n",
            "total suspects after rule 2:  20243 \n",
            "\n",
            "Rule 3: {3rd, Knows the victim, Owns a handkerchief, Seen after midnight} -> {Has access to 1st class}\n",
            "total suspects after rule 3:  4567 \n",
            "\n"
          ]
        }
      ]
    },
    {
      "cell_type": "markdown",
      "source": [
        "Using the frequent itemsets with the highest support, the list from the highest confidence, and the rules that were created below, I chose these three rules to narrow down the suspects.\n",
        "\n",
        "**Rule 1:** {Owns a handkerchief, Was not seen after midnight, Wears black shoes, no alibi} -> {Knows the victim}\n",
        "\n",
        "**Rule 2:** {Owns a handkerchief, Owns a knife, male, no alibi} -> {Has access to 1st class}\n",
        "\n",
        "**Rule 3:** {3rd, Knows the victim, Owns a handkerchief, Seen after midnight} -> {Has access to 1st class}\n",
        "\n",
        "These three rules filter the list down to the smallest count the group of suspects can be reduced, 4567 suspects.\n",
        "\n",
        "**The suspect has been categorized to:**\n",
        "\n",
        "male, Adult, 3rd class, No alibi, Knows the victim, Owns a knife, Has access to 1st class, Owns a handkerchief, Wears black shoes, Seen after midnight\n",
        "\n",
        "(Adjusted Rules Code is last, first ten is printed in loop. Entire printed list is commented out due to length)"
      ],
      "metadata": {
        "id": "WF4Mx-DbeHCJ"
      }
    },
    {
      "cell_type": "code",
      "source": [
        "\n",
        "itemsets, rules = apriori(pass_list, min_support=0.4, min_confidence=0.95)\n",
        "print('Murder Solving! :\\n')\n",
        "print(len(rules), 'ten rules')\n",
        "\n",
        "\n",
        "for rule in rules:\n",
        "  print(rule)"
      ],
      "metadata": {
        "colab": {
          "base_uri": "https://localhost:8080/"
        },
        "id": "Is1fvX78o9NC",
        "outputId": "7d2da72f-c164-4040-cf63-8caa9c39b477"
      },
      "execution_count": null,
      "outputs": [
        {
          "output_type": "stream",
          "name": "stderr",
          "text": [
            "/usr/local/lib/python3.10/dist-packages/ipykernel/ipkernel.py:283: DeprecationWarning: `should_run_async` will not call `transform_cell` automatically in the future. Please pass the result to `transformed_cell` argument and any exception that happen during thetransform in `preprocessing_exc_tuple` in IPython 7.17 and above.\n",
            "  and should_run_async(code)\n"
          ]
        },
        {
          "output_type": "stream",
          "name": "stdout",
          "text": [
            "Murder Solving! :\n",
            "\n",
            "25 ten rules\n",
            "{Has alibi} -> {Has access to 1st class} (conf: 0.950, supp: 0.600, lift: 1.000, conv: 1.000)\n",
            "{Knows the victim} -> {Has access to 1st class} (conf: 0.950, supp: 0.823, lift: 1.000, conv: 1.008)\n",
            "{Owns a handkerchief} -> {Has access to 1st class} (conf: 0.950, supp: 0.859, lift: 1.000, conv: 0.999)\n",
            "{Wears black shoes} -> {Has access to 1st class} (conf: 0.950, supp: 0.694, lift: 1.000, conv: 1.002)\n",
            "{male} -> {Has access to 1st class} (conf: 0.950, supp: 0.474, lift: 1.000, conv: 1.008)\n",
            "{Has alibi, Knows the victim} -> {Has access to 1st class} (conf: 0.950, supp: 0.520, lift: 1.000, conv: 1.008)\n",
            "{Has alibi, Owns a handkerchief} -> {Has access to 1st class} (conf: 0.950, supp: 0.543, lift: 1.000, conv: 1.002)\n",
            "{Has alibi, Seen after midnight} -> {Has access to 1st class} (conf: 0.950, supp: 0.422, lift: 1.000, conv: 1.001)\n",
            "{Has alibi, Wears black shoes} -> {Has access to 1st class} (conf: 0.950, supp: 0.439, lift: 1.000, conv: 0.999)\n",
            "{Knows the victim, Owns a handkerchief} -> {Has access to 1st class} (conf: 0.950, supp: 0.744, lift: 1.000, conv: 1.007)\n",
            "{Knows the victim, Owns a knife} -> {Has access to 1st class} (conf: 0.950, supp: 0.495, lift: 1.000, conv: 1.008)\n",
            "{Knows the victim, Seen after midnight} -> {Has access to 1st class} (conf: 0.950, supp: 0.579, lift: 1.000, conv: 1.003)\n",
            "{Knows the victim, Wears black shoes} -> {Has access to 1st class} (conf: 0.950, supp: 0.601, lift: 1.000, conv: 1.008)\n",
            "{Knows the victim, female} -> {Has access to 1st class} (conf: 0.950, supp: 0.413, lift: 1.000, conv: 1.001)\n",
            "{Knows the victim, male} -> {Has access to 1st class} (conf: 0.951, supp: 0.410, lift: 1.001, conv: 1.015)\n",
            "{Owns a handkerchief, Wears black shoes} -> {Has access to 1st class} (conf: 0.950, supp: 0.628, lift: 1.000, conv: 1.002)\n",
            "{Owns a handkerchief, male} -> {Has access to 1st class} (conf: 0.950, supp: 0.429, lift: 1.000, conv: 1.006)\n",
            "{Owns a knife, Wears black shoes} -> {Has access to 1st class} (conf: 0.950, supp: 0.418, lift: 1.000, conv: 1.007)\n",
            "{Seen after midnight, Wears black shoes} -> {Has access to 1st class} (conf: 0.950, supp: 0.489, lift: 1.000, conv: 1.000)\n",
            "{Has alibi, Knows the victim, Owns a handkerchief} -> {Has access to 1st class} (conf: 0.951, supp: 0.470, lift: 1.001, conv: 1.010)\n",
            "{Knows the victim, Owns a handkerchief, Owns a knife} -> {Has access to 1st class} (conf: 0.950, supp: 0.447, lift: 1.000, conv: 1.004)\n",
            "{Knows the victim, Owns a handkerchief, Seen after midnight} -> {Has access to 1st class} (conf: 0.950, supp: 0.523, lift: 1.000, conv: 1.005)\n",
            "{Knows the victim, Owns a handkerchief, Wears black shoes} -> {Has access to 1st class} (conf: 0.951, supp: 0.544, lift: 1.000, conv: 1.009)\n",
            "{Knows the victim, Seen after midnight, Wears black shoes} -> {Has access to 1st class} (conf: 0.950, supp: 0.423, lift: 1.000, conv: 1.006)\n",
            "{Owns a handkerchief, Seen after midnight, Wears black shoes} -> {Has access to 1st class} (conf: 0.950, supp: 0.442, lift: 1.000, conv: 1.001)\n"
          ]
        }
      ]
    }
  ],
  "metadata": {
    "colab": {
      "provenance": []
    },
    "kernelspec": {
      "display_name": "Python 3 (ipykernel)",
      "language": "python",
      "name": "python3"
    },
    "language_info": {
      "codemirror_mode": {
        "name": "ipython",
        "version": 3
      },
      "file_extension": ".py",
      "mimetype": "text/x-python",
      "name": "python",
      "nbconvert_exporter": "python",
      "pygments_lexer": "ipython3",
      "version": "3.10.10"
    }
  },
  "nbformat": 4,
  "nbformat_minor": 0
}